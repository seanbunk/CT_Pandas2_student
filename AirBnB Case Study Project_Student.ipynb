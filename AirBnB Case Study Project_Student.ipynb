{
 "cells": [
  {
   "cell_type": "markdown",
   "metadata": {},
   "source": [
    "# AirBnB NY Locations Data Case Study\n",
    "\n",
    "In this final project, you task will be to take the data provided and find evidance to answer the following questions.\n",
    "\n",
    "1. Which hosts are the busiest and why?\n",
    "2. How many neighborhood groups are available and which shows up the most?\n",
    "3. Are private rooms the most popular in manhattan?\n",
    "4. Which hosts are the busiest and based on their reviews?\n",
    "5. Which neighorhood group has the highest average price?\n",
    "6. Which neighborhood group has the highest total price?\n",
    "7. Which top 5 hosts have the highest total price?\n",
    "8. Who currently has no (zero) availability with a review count of 100 or more?\n",
    "9. What host has the highest total of prices and where are they located?\n",
    "10. When did Danielle from Queens last receive a review?\n",
    "\n",
    "You will be given **4 hours** to complete this assignment. \n",
    "**Be Advised** I will go dark for this intire assignment time period. That said, any questions that you would like to ask about the data, or the project **MUST** be asked before the time starts. Once the time has started, I can no longer give information.\n",
    "\n",
    "This is to similate what you will face when you are out in the wild. \n",
    "\n",
    "Happy Coding!"
   ]
  },
  {
   "cell_type": "code",
   "execution_count": 2,
   "metadata": {},
   "outputs": [],
   "source": [
    "import numpy as np\n",
    "import pandas as pd\n",
    "import matplotlib.pyplot as plt"
   ]
  },
  {
   "cell_type": "code",
   "execution_count": 5,
   "metadata": {},
   "outputs": [],
   "source": [
    "# air_bnb = pd.read_csv('files/AB_NYC_2019.csv')\n",
    "# air_bnb.head()\n",
    "\n",
    "df = pd.read_csv(\"/Users/seanbunk/Documents/CodingTemple/advanced_python/AB_NYC_2019.csv\")"
   ]
  },
  {
   "cell_type": "code",
   "execution_count": 6,
   "metadata": {},
   "outputs": [
    {
     "data": {
      "text/plain": [
       "Index(['id', 'name', 'host_id', 'host_name', 'neighbourhood_group',\n",
       "       'neighbourhood', 'latitude', 'longitude', 'room_type', 'price',\n",
       "       'minimum_nights', 'number_of_reviews', 'last_review',\n",
       "       'reviews_per_month', 'calculated_host_listings_count',\n",
       "       'availability_365'],\n",
       "      dtype='object')"
      ]
     },
     "execution_count": 6,
     "metadata": {},
     "output_type": "execute_result"
    }
   ],
   "source": [
    "df.columns"
   ]
  },
  {
   "cell_type": "code",
   "execution_count": 7,
   "metadata": {},
   "outputs": [
    {
     "name": "stdout",
     "output_type": "stream",
     "text": [
      "Number of neighborhood groups: 5\n",
      "Most common neighborhood group: Manhattan\n"
     ]
    }
   ],
   "source": [
    "#1 How many neighborhood groups are available and which shows up the most?\n",
    "\n",
    "num_hoods = df[\"neighbourhood_group\"].nunique()\n",
    "print(f\"Number of neighborhood groups: {num_hoods}\")\n",
    "\n",
    "neighbourhood_counts = df['neighbourhood_group'].value_counts()\n",
    "print(\"Most common neighborhood group:\", neighbourhood_counts.index[0])"
   ]
  },
  {
   "cell_type": "code",
   "execution_count": 8,
   "metadata": {},
   "outputs": [
    {
     "name": "stdout",
     "output_type": "stream",
     "text": [
      "Entire home/apt    13199\n",
      "Private room        7982\n",
      "Shared room          480\n",
      "Name: room_type, dtype: int64\n"
     ]
    }
   ],
   "source": [
    "#2 Are private rooms the most popular in manhattan?  NO\n",
    "\n",
    "manhattan_listings = df[df[\"neighbourhood_group\"] == \"Manhattan\"]\n",
    "room_type_counts = manhattan_listings[\"room_type\"].value_counts()\n",
    "print(room_type_counts)\n"
   ]
  },
  {
   "cell_type": "code",
   "execution_count": 9,
   "metadata": {},
   "outputs": [
    {
     "data": {
      "text/plain": [
       "host_name\n",
       "Row NYC    18.620000\n",
       "Nalicia    18.126667\n",
       "Dona       13.990000\n",
       "Aisling    13.420000\n",
       "Malini     13.150000\n",
       "Name: reviews_per_month, dtype: float64"
      ]
     },
     "execution_count": 9,
     "metadata": {},
     "output_type": "execute_result"
    }
   ],
   "source": [
    "#3 Which hosts are the busiest and based on their reviews?    \n",
    "reviews_per_month = df.groupby('host_name')['reviews_per_month'].mean() \n",
    "top_5 = reviews_per_month.sort_values(ascending=False).head(5)\n",
    "top_5"
   ]
  },
  {
   "cell_type": "code",
   "execution_count": 10,
   "metadata": {},
   "outputs": [
    {
     "name": "stdout",
     "output_type": "stream",
     "text": [
      "neighbourhood_group\n",
      "Manhattan    196.875814\n",
      "Name: price, dtype: float64\n"
     ]
    }
   ],
   "source": [
    "#4 Which neighorhood group has the highest average price?  Manhattan\n",
    "\n",
    "avg_prices = df.groupby(\"neighbourhood_group\")[\"price\"].mean().sort_values(ascending=False)\n",
    "print(avg_prices.head(1))"
   ]
  },
  {
   "cell_type": "code",
   "execution_count": 11,
   "metadata": {},
   "outputs": [
    {
     "name": "stdout",
     "output_type": "stream",
     "text": [
      "neighbourhood_group\n",
      "Manhattan    4264527\n",
      "Name: price, dtype: int64\n"
     ]
    }
   ],
   "source": [
    "#5 Which neighbor hood group has the highest total price?\n",
    "\n",
    "total_prices = df.groupby(\"neighbourhood_group\")[\"price\"].sum().sort_values(ascending=False)\n",
    "print(total_prices.head(1))"
   ]
  },
  {
   "cell_type": "code",
   "execution_count": 12,
   "metadata": {},
   "outputs": [
    {
     "name": "stdout",
     "output_type": "stream",
     "text": [
      "host_name\n",
      "Sonder (NYC)    82795\n",
      "Blueground      70331\n",
      "Michael         66895\n",
      "David           65844\n",
      "Alex            52563\n",
      "Name: price, dtype: int64\n"
     ]
    }
   ],
   "source": [
    "#6 Which top 5 hosts have the highest total price?\n",
    "\n",
    "top_hosts = df.groupby(\"host_name\")[\"price\"].sum().nlargest(5)\n",
    "print(top_hosts)"
   ]
  },
  {
   "cell_type": "code",
   "execution_count": 16,
   "metadata": {},
   "outputs": [
    {
     "data": {
      "text/plain": [
       "8         MaryEllen\n",
       "94       Christiana\n",
       "132             Sol\n",
       "174           Coral\n",
       "180            Doug\n",
       "            ...    \n",
       "29581      Kathleen\n",
       "30461         Janet\n",
       "31250        Albert\n",
       "32670      Stephany\n",
       "35014       Mariluz\n",
       "Name: host_name, Length: 162, dtype: object"
      ]
     },
     "execution_count": 16,
     "metadata": {},
     "output_type": "execute_result"
    }
   ],
   "source": [
    "#7 Who currently has no (zero) availability with a review count of 100 or more?\n",
    "\n",
    "no_avail = df[(df[\"availability_365\"] == 0) & (df[\"number_of_reviews\"] >= 100)]\n",
    "no_avail['host_name']"
   ]
  },
  {
   "cell_type": "code",
   "execution_count": 67,
   "metadata": {},
   "outputs": [
    {
     "name": "stdout",
     "output_type": "stream",
     "text": [
      "Financial District\n",
      "Sonder (NYC)\n",
      "82795\n"
     ]
    }
   ],
   "source": [
    "#8 What host has the highest total of prices and where are they located?  Sonder\n",
    "\n",
    "host_prices = df.groupby('host_name')['price'].sum().sort_values(ascending=False)\n",
    "top_host = host_prices.index[0]\n",
    "top_host_price = host_prices.iloc[0]\n",
    "top_host_location = df.loc[df['host_name'] == top_host, 'neighbourhood'].iloc[0]\n",
    "print(top_host_location)\n",
    "print(top_host)\n",
    "print(top_host_price)\n"
   ]
  },
  {
   "cell_type": "code",
   "execution_count": 20,
   "metadata": {},
   "outputs": [
    {
     "data": {
      "text/html": [
       "<div>\n",
       "<style scoped>\n",
       "    .dataframe tbody tr th:only-of-type {\n",
       "        vertical-align: middle;\n",
       "    }\n",
       "\n",
       "    .dataframe tbody tr th {\n",
       "        vertical-align: top;\n",
       "    }\n",
       "\n",
       "    .dataframe thead th {\n",
       "        text-align: right;\n",
       "    }\n",
       "</style>\n",
       "<table border=\"1\" class=\"dataframe\">\n",
       "  <thead>\n",
       "    <tr style=\"text-align: right;\">\n",
       "      <th></th>\n",
       "      <th>id</th>\n",
       "      <th>name</th>\n",
       "      <th>host_id</th>\n",
       "      <th>host_name</th>\n",
       "      <th>neighbourhood_group</th>\n",
       "      <th>neighbourhood</th>\n",
       "      <th>latitude</th>\n",
       "      <th>longitude</th>\n",
       "      <th>room_type</th>\n",
       "      <th>price</th>\n",
       "      <th>minimum_nights</th>\n",
       "      <th>number_of_reviews</th>\n",
       "      <th>last_review</th>\n",
       "      <th>reviews_per_month</th>\n",
       "      <th>calculated_host_listings_count</th>\n",
       "      <th>availability_365</th>\n",
       "    </tr>\n",
       "  </thead>\n",
       "  <tbody>\n",
       "    <tr>\n",
       "      <th>7086</th>\n",
       "      <td>5115372</td>\n",
       "      <td>Comfy Room Family Home LGA Airport NO CLEANING...</td>\n",
       "      <td>26432133</td>\n",
       "      <td>Danielle</td>\n",
       "      <td>Queens</td>\n",
       "      <td>East Elmhurst</td>\n",
       "      <td>40.76374</td>\n",
       "      <td>-73.87103</td>\n",
       "      <td>Private room</td>\n",
       "      <td>54</td>\n",
       "      <td>1</td>\n",
       "      <td>430</td>\n",
       "      <td>7/3/19</td>\n",
       "      <td>13.45</td>\n",
       "      <td>5</td>\n",
       "      <td>347</td>\n",
       "    </tr>\n",
       "    <tr>\n",
       "      <th>16349</th>\n",
       "      <td>13151075</td>\n",
       "      <td>ASTORIA APARTMENT OUTDOOR SPACE</td>\n",
       "      <td>18051286</td>\n",
       "      <td>Danielle</td>\n",
       "      <td>Queens</td>\n",
       "      <td>Astoria</td>\n",
       "      <td>40.77221</td>\n",
       "      <td>-73.92901</td>\n",
       "      <td>Private room</td>\n",
       "      <td>50</td>\n",
       "      <td>1</td>\n",
       "      <td>0</td>\n",
       "      <td>NaN</td>\n",
       "      <td>NaN</td>\n",
       "      <td>1</td>\n",
       "      <td>0</td>\n",
       "    </tr>\n",
       "    <tr>\n",
       "      <th>20403</th>\n",
       "      <td>16276632</td>\n",
       "      <td>Cozy Room Family Home LGA Airport NO CLEANING FEE</td>\n",
       "      <td>26432133</td>\n",
       "      <td>Danielle</td>\n",
       "      <td>Queens</td>\n",
       "      <td>East Elmhurst</td>\n",
       "      <td>40.76335</td>\n",
       "      <td>-73.87007</td>\n",
       "      <td>Private room</td>\n",
       "      <td>48</td>\n",
       "      <td>1</td>\n",
       "      <td>510</td>\n",
       "      <td>7/6/19</td>\n",
       "      <td>16.22</td>\n",
       "      <td>5</td>\n",
       "      <td>341</td>\n",
       "    </tr>\n",
       "    <tr>\n",
       "      <th>21517</th>\n",
       "      <td>17222454</td>\n",
       "      <td>Sun Room Family Home LGA Airport NO CLEANING FEE</td>\n",
       "      <td>26432133</td>\n",
       "      <td>Danielle</td>\n",
       "      <td>Queens</td>\n",
       "      <td>East Elmhurst</td>\n",
       "      <td>40.76367</td>\n",
       "      <td>-73.87088</td>\n",
       "      <td>Private room</td>\n",
       "      <td>48</td>\n",
       "      <td>1</td>\n",
       "      <td>417</td>\n",
       "      <td>7/7/19</td>\n",
       "      <td>14.36</td>\n",
       "      <td>5</td>\n",
       "      <td>338</td>\n",
       "    </tr>\n",
       "    <tr>\n",
       "      <th>22068</th>\n",
       "      <td>17754072</td>\n",
       "      <td>Bed in Family Home Near LGA Airport</td>\n",
       "      <td>26432133</td>\n",
       "      <td>Danielle</td>\n",
       "      <td>Queens</td>\n",
       "      <td>East Elmhurst</td>\n",
       "      <td>40.76389</td>\n",
       "      <td>-73.87155</td>\n",
       "      <td>Shared room</td>\n",
       "      <td>38</td>\n",
       "      <td>1</td>\n",
       "      <td>224</td>\n",
       "      <td>7/6/19</td>\n",
       "      <td>7.96</td>\n",
       "      <td>5</td>\n",
       "      <td>80</td>\n",
       "    </tr>\n",
       "    <tr>\n",
       "      <th>22469</th>\n",
       "      <td>18173787</td>\n",
       "      <td>Cute Tiny Room Family Home by LGA NO CLEANING FEE</td>\n",
       "      <td>26432133</td>\n",
       "      <td>Danielle</td>\n",
       "      <td>Queens</td>\n",
       "      <td>East Elmhurst</td>\n",
       "      <td>40.76380</td>\n",
       "      <td>-73.87238</td>\n",
       "      <td>Private room</td>\n",
       "      <td>48</td>\n",
       "      <td>1</td>\n",
       "      <td>436</td>\n",
       "      <td>7/8/19</td>\n",
       "      <td>16.03</td>\n",
       "      <td>5</td>\n",
       "      <td>337</td>\n",
       "    </tr>\n",
       "    <tr>\n",
       "      <th>27021</th>\n",
       "      <td>21386105</td>\n",
       "      <td>Quiet &amp; clean 1br haven with balcony near the ...</td>\n",
       "      <td>154256662</td>\n",
       "      <td>Danielle</td>\n",
       "      <td>Queens</td>\n",
       "      <td>Astoria</td>\n",
       "      <td>40.77134</td>\n",
       "      <td>-73.92424</td>\n",
       "      <td>Entire home/apt</td>\n",
       "      <td>250</td>\n",
       "      <td>3</td>\n",
       "      <td>1</td>\n",
       "      <td>1/2/18</td>\n",
       "      <td>0.05</td>\n",
       "      <td>1</td>\n",
       "      <td>180</td>\n",
       "    </tr>\n",
       "    <tr>\n",
       "      <th>33861</th>\n",
       "      <td>26814763</td>\n",
       "      <td>One bedroom with full bed / 1 stop from Manhattan</td>\n",
       "      <td>201647469</td>\n",
       "      <td>Danielle</td>\n",
       "      <td>Queens</td>\n",
       "      <td>Long Island City</td>\n",
       "      <td>40.74565</td>\n",
       "      <td>-73.94699</td>\n",
       "      <td>Private room</td>\n",
       "      <td>108</td>\n",
       "      <td>2</td>\n",
       "      <td>13</td>\n",
       "      <td>6/20/19</td>\n",
       "      <td>1.74</td>\n",
       "      <td>1</td>\n",
       "      <td>333</td>\n",
       "    </tr>\n",
       "  </tbody>\n",
       "</table>\n",
       "</div>"
      ],
      "text/plain": [
       "             id                                               name    host_id  \\\n",
       "7086    5115372  Comfy Room Family Home LGA Airport NO CLEANING...   26432133   \n",
       "16349  13151075                    ASTORIA APARTMENT OUTDOOR SPACE   18051286   \n",
       "20403  16276632  Cozy Room Family Home LGA Airport NO CLEANING FEE   26432133   \n",
       "21517  17222454   Sun Room Family Home LGA Airport NO CLEANING FEE   26432133   \n",
       "22068  17754072                Bed in Family Home Near LGA Airport   26432133   \n",
       "22469  18173787  Cute Tiny Room Family Home by LGA NO CLEANING FEE   26432133   \n",
       "27021  21386105  Quiet & clean 1br haven with balcony near the ...  154256662   \n",
       "33861  26814763  One bedroom with full bed / 1 stop from Manhattan  201647469   \n",
       "\n",
       "      host_name neighbourhood_group     neighbourhood  latitude  longitude  \\\n",
       "7086   Danielle              Queens     East Elmhurst  40.76374  -73.87103   \n",
       "16349  Danielle              Queens           Astoria  40.77221  -73.92901   \n",
       "20403  Danielle              Queens     East Elmhurst  40.76335  -73.87007   \n",
       "21517  Danielle              Queens     East Elmhurst  40.76367  -73.87088   \n",
       "22068  Danielle              Queens     East Elmhurst  40.76389  -73.87155   \n",
       "22469  Danielle              Queens     East Elmhurst  40.76380  -73.87238   \n",
       "27021  Danielle              Queens           Astoria  40.77134  -73.92424   \n",
       "33861  Danielle              Queens  Long Island City  40.74565  -73.94699   \n",
       "\n",
       "             room_type  price  minimum_nights  number_of_reviews last_review  \\\n",
       "7086      Private room     54               1                430      7/3/19   \n",
       "16349     Private room     50               1                  0         NaN   \n",
       "20403     Private room     48               1                510      7/6/19   \n",
       "21517     Private room     48               1                417      7/7/19   \n",
       "22068      Shared room     38               1                224      7/6/19   \n",
       "22469     Private room     48               1                436      7/8/19   \n",
       "27021  Entire home/apt    250               3                  1      1/2/18   \n",
       "33861     Private room    108               2                 13     6/20/19   \n",
       "\n",
       "       reviews_per_month  calculated_host_listings_count  availability_365  \n",
       "7086               13.45                               5               347  \n",
       "16349                NaN                               1                 0  \n",
       "20403              16.22                               5               341  \n",
       "21517              14.36                               5               338  \n",
       "22068               7.96                               5                80  \n",
       "22469              16.03                               5               337  \n",
       "27021               0.05                               1               180  \n",
       "33861               1.74                               1               333  "
      ]
     },
     "execution_count": 20,
     "metadata": {},
     "output_type": "execute_result"
    }
   ],
   "source": [
    "#9 When did Danielle from Queens last receive a review?  #2019-07-08\n",
    "\n",
    "danielle_reviews = df[(df[\"neighbourhood_group\"] == \"Queens\") & (df[\"host_name\"] == \"Danielle\")]\n",
    "danielle_reviews"
   ]
  },
  {
   "cell_type": "markdown",
   "metadata": {},
   "source": [
    "## Further Questions\n",
    "\n",
    "1. Which host has the most listings?"
   ]
  },
  {
   "cell_type": "code",
   "execution_count": 18,
   "metadata": {},
   "outputs": [
    {
     "name": "stdout",
     "output_type": "stream",
     "text": [
      "Host with the most listings: Michael\n"
     ]
    }
   ],
   "source": [
    "most_listings_host = df['host_name'].value_counts().index[0]\n",
    "print(\"Host with the most listings:\", most_listings_host)"
   ]
  },
  {
   "cell_type": "markdown",
   "metadata": {},
   "source": [
    "2. How many listings have completely open availability?"
   ]
  },
  {
   "cell_type": "code",
   "execution_count": 10,
   "metadata": {},
   "outputs": [
    {
     "name": "stdout",
     "output_type": "stream",
     "text": [
      "Number of listings with completely open availability: 1295\n"
     ]
    }
   ],
   "source": [
    "open_avail_count = df[df['availability_365'] == 365]['id'].count()\n",
    "print(\"Number of listings with completely open availability:\", open_avail_count)\n"
   ]
  },
  {
   "cell_type": "markdown",
   "metadata": {},
   "source": [
    "3. What room_types have the highest review numbers?"
   ]
  },
  {
   "cell_type": "code",
   "execution_count": 9,
   "metadata": {},
   "outputs": [
    {
     "name": "stdout",
     "output_type": "stream",
     "text": [
      "Room type with the highest review numbers: Entire home/apt\n"
     ]
    }
   ],
   "source": [
    "room_type_review_counts = df.groupby('room_type')['number_of_reviews'].sum()\n",
    "highest_review_room_type = room_type_review_counts.idxmax()\n",
    "print(\"Room type with the highest review numbers:\", highest_review_room_type)"
   ]
  },
  {
   "cell_type": "markdown",
   "metadata": {},
   "source": [
    "# Final Conclusion\n",
    "\n",
    "In this cell, write your final conclusion for each of the questions asked.\n",
    "\n",
    "Also, if you uncovered some more details that were not asked above, please discribe them here.\n",
    "\n",
    "-- Add your conclusion --"
   ]
  },
  {
   "cell_type": "code",
   "execution_count": null,
   "metadata": {},
   "outputs": [],
   "source": [
    "# 1.) There are approximately 5 neighborhood groups, which Manhattan shows up the most.\n",
    "\n",
    "# 2.) Entire home/apt are more popular compared to private rooms or shared rooms. \n",
    "\n",
    "# 3.) According to the data, host ROW NYC is the busiest, as they have the most number of reviews.\n",
    "\n",
    "# 4.) The neighborhood group that has the highest average price. \n",
    "\n",
    "# 5.) Manhattan is the neighborhood group that has the highest totatl price.\n",
    "\n",
    "# 6.) Sonder, Blueground, Michael, David, and Alex are the top 5 host with the highest price.          \n",
    "\n",
    "# 7.) MaryEllen, Christiana, Sol, Coral, Doug, Kathleen, Janet, Albert, Stephany, Mariluz has zero availability with 100 reviews.\n",
    "    \n",
    "# 8.) The name of the host that has the highest total of prices is Sonder, which he is located in Financial District, NYC. \n",
    "    \n",
    "# 9.) Danielle from Queens last revieved a review on 7-8-2019. \n",
    "\n",
    "\n"
   ]
  }
 ],
 "metadata": {
  "kernelspec": {
   "display_name": "Python 3 (ipykernel)",
   "language": "python",
   "name": "python3"
  },
  "language_info": {
   "codemirror_mode": {
    "name": "ipython",
    "version": 3
   },
   "file_extension": ".py",
   "mimetype": "text/x-python",
   "name": "python",
   "nbconvert_exporter": "python",
   "pygments_lexer": "ipython3",
   "version": "3.9.13"
  }
 },
 "nbformat": 4,
 "nbformat_minor": 4
}
